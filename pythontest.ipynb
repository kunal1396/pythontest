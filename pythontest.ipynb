{
 "cells": [
  {
   "cell_type": "code",
   "execution_count": null,
   "id": "9f7eca13-0f28-4f66-bdea-f6f64c814398",
   "metadata": {},
   "outputs": [],
   "source": [
    "###The objective of the project is to calculate the duration of how long a person lived based on his\n",
    "Age.\n",
    "The duration should be calculated in different time units like Months, Weeks, Days, Hours,\n",
    "Minutes, Seconds.\n",
    "The input to the application is an Age of a person and the output is expected to calculate the\n",
    "duration of time he lived in different time units as selected by the use ###"
   ]
  },
  {
   "cell_type": "code",
   "execution_count": 1,
   "id": "48d08148-a636-4a0d-aa02-378df13619fc",
   "metadata": {},
   "outputs": [
    {
     "name": "stdout",
     "output_type": "stream",
     "text": [
      "Today: 2024-11-30\n",
      "DOB: 1996-03-01\n",
      "Days: 10501\n",
      "In Years: 28.77\n",
      "Hours:252024\n",
      "Minutes:15121440\n",
      "Second:907286400\n"
     ]
    }
   ],
   "source": [
    "## Defining the class or method for calculating the survival duration\n",
    "from datetime import date\n",
    "today=date.today()\n",
    "print(f\"Today: {today}\")\n",
    "dob= date(year=1996, month=3, day=1,)\n",
    "print(f\"DOB: {dob}\")\n",
    "\n",
    "### Defining the logic for calculating the duration in 6 units\n",
    "total_days=(today-dob).days\n",
    "print(f\"Days: {total_days}\")\n",
    "years=total_days/365\n",
    "print(f\"In Years: {years:.2f}\")\n",
    "total_hours=(total_days*24)\n",
    "print(f\"Hours:{total_hours}\")\n",
    "total_minutes=(total_hours*60)\n",
    "print(f\"Minutes:{total_minutes}\")\n",
    "total_seconds=(total_minutes*60)\n",
    "print(f\"Second:{total_seconds}\")\n",
    "\n",
    "\n",
    "\n",
    "\n",
    "\n",
    "\n",
    "          \n",
    "                "
   ]
  },
  {
   "cell_type": "code",
   "execution_count": null,
   "id": "794dcf5d-eb9b-4444-a4ad-75777f969f56",
   "metadata": {},
   "outputs": [],
   "source": []
  },
  {
   "cell_type": "code",
   "execution_count": null,
   "id": "6e002f0a-36bc-4f98-8acc-d9963ff5574e",
   "metadata": {},
   "outputs": [],
   "source": []
  },
  {
   "cell_type": "code",
   "execution_count": null,
   "id": "d72d847e-8639-4c87-9623-37be73b4ddbe",
   "metadata": {},
   "outputs": [],
   "source": []
  }
 ],
 "metadata": {
  "kernelspec": {
   "display_name": "Python 3 (ipykernel)",
   "language": "python",
   "name": "python3"
  },
  "language_info": {
   "codemirror_mode": {
    "name": "ipython",
    "version": 3
   },
   "file_extension": ".py",
   "mimetype": "text/x-python",
   "name": "python",
   "nbconvert_exporter": "python",
   "pygments_lexer": "ipython3",
   "version": "3.12.4"
  }
 },
 "nbformat": 4,
 "nbformat_minor": 5
}
